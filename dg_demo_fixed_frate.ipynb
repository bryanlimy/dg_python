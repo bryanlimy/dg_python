{
 "cells": [
  {
   "cell_type": "markdown",
   "metadata": {},
   "source": [
    "## Simulate and fit DG model for constant firing rate\n",
    "\n",
    "Demoscript to sample from Dichotomized Gaussian model with specified correlation coefficients and fixed firing rate per neuron, from the paper *'Generating spike-trains with specified correlations', Macke et al., Neural Computation 2008*\n",
    "\n",
    "Note: this code mirrors the demoscript from the CorBinian toolbox (https://github.com/mackelab/CorBinian), and reproduces the same results as from section 1. in *demo/demo_dich_gauss_01.m*\n"
   ]
  },
  {
   "cell_type": "code",
   "execution_count": 1,
   "metadata": {},
   "outputs": [],
   "source": [
    "import numpy as np\n",
    "import matplotlib.pyplot as plt\n",
    "from os.path import join\n",
    "from  os import makedirs\n",
    "\n",
    "from dg_python.dichot_gauss import DichotGauss, make_symmetric, cov_to_corr\n",
    "from dg_python.optim_dichot_gauss import DGOptimise\n",
    "\n",
    "import yaml"
   ]
  },
  {
   "cell_type": "code",
   "execution_count": 2,
   "metadata": {},
   "outputs": [],
   "source": [
    "timebins = 1\n",
    "trials = int(1e5)\n",
    "num_neur = 2"
   ]
  },
  {
   "cell_type": "code",
   "execution_count": 3,
   "metadata": {},
   "outputs": [
    {
     "name": "stdout",
     "output_type": "stream",
     "text": [
      "Mean :  [[0.4 0.3]]\n",
      "Correlation matrix :  [[0.99999999 0.1       ]\n",
      " [0.1        0.99999999]]\n"
     ]
    }
   ],
   "source": [
    "# Set mean and correlation matrix\n",
    "mean = np.array([.4, .3]).reshape(1, num_neur)\n",
    "var = mean * (1 - mean)\n",
    "cov = np.eye(num_neur)\n",
    "cov[0, 1], cov[1, 0] = .1, .1\n",
    "corr = cov_to_corr(cov)\n",
    "\n",
    "print(\"Mean : \", mean)\n",
    "print(\"Correlation matrix : \", corr)"
   ]
  },
  {
   "cell_type": "code",
   "execution_count": 4,
   "metadata": {},
   "outputs": [],
   "source": [
    "# Sample from DG model\n",
    "dg = DichotGauss(num_neur, mean=mean, corr=cov, make_pd=True)\n",
    "y = dg.sample(repeats=trials)"
   ]
  },
  {
   "cell_type": "code",
   "execution_count": 5,
   "metadata": {},
   "outputs": [
    {
     "data": {
      "text/plain": [
       "(1, 100000, 2)"
      ]
     },
     "execution_count": 5,
     "metadata": {},
     "output_type": "execute_result"
    }
   ],
   "source": [
    "y.shape # Data MUST have shape timebins x repeats x neurons"
   ]
  },
  {
   "cell_type": "code",
   "execution_count": 6,
   "metadata": {},
   "outputs": [
    {
     "data": {
      "text/plain": [
       "(100000, 2)"
      ]
     },
     "execution_count": 6,
     "metadata": {},
     "output_type": "execute_result"
    }
   ],
   "source": [
    "y.squeeze().shape"
   ]
  },
  {
   "cell_type": "code",
   "execution_count": 7,
   "metadata": {},
   "outputs": [
    {
     "data": {
      "image/png": "[encoded data removed]",
      "text/plain": [
       "<Figure size 576x360 with 1 Axes>"
      ]
     },
     "metadata": {
      "needs_background": "light"
     },
     "output_type": "display_data"
    }
   ],
   "source": [
    "# # Visualise y\n",
    "# plt.subplots(figsize=(8, 5))\n",
    "# plt.imshow(y.reshape(-1, num_neur), aspect='auto', origin='lower', cmap='binary')\n",
    "# plt.title('Binary spike count raster', fontsize=15)\n",
    "# plt.xlabel('Neurons', fontsize=15)\n",
    "# plt.ylabel('Timebins * Trials', fontsize=15)\n",
    "# plt.show()"
   ]
  },
  {
   "cell_type": "code",
   "execution_count": 9,
   "metadata": {
    "scrolled": true
   },
   "outputs": [],
   "source": [
    "# Do optimisation\n",
    "dgopt = DGOptimise(data=y)    # Initialise optimiser\n",
    "\n",
    "cov_y = dgopt.data_tfix_covariance    # Covariance of data\n",
    "mean_hat = dgopt.gauss_mean    # Estimate of mean of multivariate Gaussian from data\n",
    "\n",
    "corr_hat = dgopt.get_gauss_correlation(set_attr=True)    # Estimate of multivariate Gaussian correlation matrix"
   ]
  },
  {
   "cell_type": "code",
   "execution_count": 15,
   "metadata": {},
   "outputs": [
    {
     "name": "stdout",
     "output_type": "stream",
     "text": [
      "Target mean X1:  0.40     Estimated mean X1:  0.393\n",
      "\n",
      "Target mean X2:  0.30     Estimated mean X2:  0.305\n",
      "\n",
      "Target cov X1X2: 0.10     Estimated cov X1X2: 0.106\n",
      "\n"
     ]
    }
   ],
   "source": [
    "print('Target mean X1:  %.2f     Estimated mean X1:  %.3f\\n' %(mean[:, 0], mean_hat[:, 0]))\n",
    "print('Target mean X2:  %.2f     Estimated mean X2:  %.3f\\n' %(mean[:, 1], mean_hat[:, 1]))\n",
    "print('Target cov X1X2: %.2f     Estimated cov X1X2: %.3f\\n' %(corr[1, 0], corr_hat[0, 1]))"
   ]
  },
  {
   "cell_type": "code",
   "execution_count": null,
   "metadata": {},
   "outputs": [],
   "source": []
  }
 ],
 "metadata": {
  "kernelspec": {
   "display_name": "Python 3",
   "language": "python",
   "name": "python3"
  },
  "language_info": {
   "codemirror_mode": {
    "name": "ipython",
    "version": 3
   },
   "file_extension": ".py",
   "mimetype": "text/x-python",
   "name": "python",
   "nbconvert_exporter": "python",
   "pygments_lexer": "ipython3",
   "version": "3.7.1"
  }
 },
 "nbformat": 4,
 "nbformat_minor": 2
}
