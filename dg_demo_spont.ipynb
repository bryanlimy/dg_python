{
 "cells": [
  {
   "cell_type": "markdown",
   "metadata": {},
   "source": [
    "## Simulate and fit DG model for constant firing rate"
   ]
  },
  {
   "cell_type": "code",
   "execution_count": 1,
   "metadata": {},
   "outputs": [],
   "source": [
    "import numpy as np\n",
    "import matplotlib.pyplot as plt\n",
    "from os.path import join\n",
    "from  os import makedirs\n",
    "\n",
    "from dg_python.dichot_gauss import DichotGauss, make_symmetric, cov_to_corr\n",
    "from dg_python.optim_dichot_gauss import DGOptimise\n",
    "\n",
    "import yaml"
   ]
  },
  {
   "cell_type": "code",
   "execution_count": 2,
   "metadata": {},
   "outputs": [],
   "source": [
    "timebins = 1\n",
    "trials = int(1e4)\n",
    "num_neur = 2"
   ]
  },
  {
   "cell_type": "code",
   "execution_count": 3,
   "metadata": {},
   "outputs": [],
   "source": [
    "# Set mean and correlation matrix\n",
    "mean = np.array([.4, .3]).reshape(1, 2)\n",
    "var = mean * (1 - mean)\n",
    "cov = np.eye(num_neur)\n",
    "cov[0, 1], cov[1, 0] = .1, .1\n",
    "corr = cov_to_corr(cov)"
   ]
  },
  {
   "cell_type": "code",
   "execution_count": 4,
   "metadata": {},
   "outputs": [],
   "source": [
    "# Sample from DG model\n",
    "dg = DichotGauss(num_neur, mean=mean, corr=cov, make_pd=True)\n",
    "y = dg.sample(repeats=trials)"
   ]
  },
  {
   "cell_type": "code",
   "execution_count": 5,
   "metadata": {},
   "outputs": [
    {
     "data": {
      "text/plain": [
       "(1, 10000, 2)"
      ]
     },
     "execution_count": 5,
     "metadata": {},
     "output_type": "execute_result"
    }
   ],
   "source": [
    "y.shape"
   ]
  },
  {
   "cell_type": "code",
   "execution_count": 6,
   "metadata": {},
   "outputs": [
    {
     "data": {
      "text/plain": [
       "(10000, 2)"
      ]
     },
     "execution_count": 6,
     "metadata": {},
     "output_type": "execute_result"
    }
   ],
   "source": [
    "y.squeeze().shape"
   ]
  },
  {
   "cell_type": "code",
   "execution_count": 7,
   "metadata": {},
   "outputs": [
    {
     "data": {
      "image/png": "[encoded data removed]",
      "text/plain": [
       "<Figure size 576x360 with 1 Axes>"
      ]
     },
     "metadata": {
      "needs_background": "light"
     },
     "output_type": "display_data"
    }
   ],
   "source": [
    "# Visualise y\n",
    "plt.subplots(figsize=(8, 5))\n",
    "plt.imshow(y.reshape(-1, num_neur), aspect='auto', origin='lower', cmap='binary')\n",
    "plt.title('Binary spike count raster', fontsize=15)\n",
    "plt.xlabel('Neurons', fontsize=15)\n",
    "plt.ylabel('Timebins * Trials', fontsize=15)\n",
    "plt.show()"
   ]
  },
  {
   "cell_type": "code",
   "execution_count": 8,
   "metadata": {
    "scrolled": true
   },
   "outputs": [
    {
     "name": "stdout",
     "output_type": "stream",
     "text": [
      "0.08387827440619469\n"
     ]
    }
   ],
   "source": [
    "# Do optimisation\n",
    "dgopt = DGOptimise(data=y)    # Initialise optimiser\n",
    "\n",
    "cov_y = dgopt.data_covariance    # Covariance of data\n",
    "mean_hat = dgopt.gauss_mean    # Estimate of mean of multivariate Gaussian from data\n",
    "\n",
    "corr_hat = dgopt.get_gauss_correlation(set_attr=True)    # Estimate of multivaraiate Gaussian correlation matrix"
   ]
  },
  {
   "cell_type": "code",
   "execution_count": 9,
   "metadata": {},
   "outputs": [
    {
     "name": "stdout",
     "output_type": "stream",
     "text": [
      "[[0.40374533 0.28636314]] [[0.4 0.3]]\n",
      "[[1.         0.08387827]\n",
      " [0.08387827 1.        ]] [[0.99999999 0.1       ]\n",
      " [0.1        0.99999999]]\n"
     ]
    }
   ],
   "source": [
    "print(mean_hat, mean)\n",
    "print(corr_hat, corr)"
   ]
  }
 ],
 "metadata": {
  "kernelspec": {
   "display_name": "Python 3",
   "language": "python",
   "name": "python3"
  },
  "language_info": {
   "codemirror_mode": {
    "name": "ipython",
    "version": 3
   },
   "file_extension": ".py",
   "mimetype": "text/x-python",
   "name": "python",
   "nbconvert_exporter": "python",
   "pygments_lexer": "ipython3",
   "version": "3.7.1"
  }
 },
 "nbformat": 4,
 "nbformat_minor": 2
}
